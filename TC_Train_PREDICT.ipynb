{
 "cells": [
  {
   "cell_type": "markdown",
   "metadata": {},
   "source": [
    "### This is using FastAI v1 codebase"
   ]
  },
  {
   "cell_type": "code",
   "execution_count": 1,
   "metadata": {},
   "outputs": [],
   "source": [
    "from fastai.text import *\n",
    "import pandas as pd\n",
    "import numpy as np\n",
    "from sklearn.model_selection import train_test_split"
   ]
  },
  {
   "cell_type": "markdown",
   "metadata": {},
   "source": [
    "### Begin reading in and prepping data"
   ]
  },
  {
   "cell_type": "code",
   "execution_count": 3,
   "metadata": {},
   "outputs": [
    {
     "data": {
      "text/plain": [
       "((25000, 3), (500, 3))"
      ]
     },
     "execution_count": 3,
     "metadata": {},
     "output_type": "execute_result"
    }
   ],
   "source": [
    "PATH = \"data/sample/\"\n",
    "\n",
    "df_trn = pd.read_csv(f'{PATH}training_data.csv')\n",
    "\n",
    "df_tst = pd.read_csv(f'{PATH}holdout_for_test.csv')\n",
    "df_trn.shape, df_tst.shape"
   ]
  },
  {
   "cell_type": "markdown",
   "metadata": {},
   "source": [
    "### Get a list of unique labels from both Train/Valid and Test datasets"
   ]
  },
  {
   "cell_type": "code",
   "execution_count": 4,
   "metadata": {},
   "outputs": [
    {
     "data": {
      "text/plain": [
       "((5316,), (382,))"
      ]
     },
     "execution_count": 4,
     "metadata": {},
     "output_type": "execute_result"
    }
   ],
   "source": [
    "# keep a list of unique lables that we can use later when testing\n",
    "labels = df_trn['label_id'].unique()\n",
    "labels.sort()\n",
    "\n",
    "# Do the same for the Test (holdout) data\n",
    "labels_tst = df_tst['label_id'].unique()\n",
    "labels_tst.sort()\n",
    "\n",
    "labels.shape, labels_tst.shape"
   ]
  },
  {
   "cell_type": "markdown",
   "metadata": {},
   "source": [
    "### See if any Test labels are unique to Train/Valid labels"
   ]
  },
  {
   "cell_type": "code",
   "execution_count": 5,
   "metadata": {},
   "outputs": [
    {
     "name": "stdout",
     "output_type": "stream",
     "text": [
      "There are 66 unique labels in Test that are NOT found in Train/Valid\n"
     ]
    }
   ],
   "source": [
    "s = set(labels)\n",
    "t = set(labels_tst)\n",
    "if (t.issubset(s) == False) or (s.issuperset(t) == False):\n",
    "    labels_tst_unique = sorted(t.difference(s))\n",
    "    print(\"There are \" + str(len(labels_tst_unique)) + \" unique labels in Test that are NOT found in Train/Valid\")\n",
    "else:\n",
    "    print(\"No unique Test labels\")"
   ]
  },
  {
   "cell_type": "markdown",
   "metadata": {},
   "source": [
    "### Display some of the Test Data which has Unique labels (not found in TRN Dataset)"
   ]
  },
  {
   "cell_type": "code",
   "execution_count": null,
   "metadata": {},
   "outputs": [],
   "source": [
    "pd.options.display.max_colwidth = 0\n",
    "pd.options.display.html.use_mathjax = False\n",
    "df_tst[df_tst['label_id'].isin(labels_tst_unique)]"
   ]
  },
  {
   "cell_type": "markdown",
   "metadata": {},
   "source": [
    "## Begin Classification Predicition against Holdout (Test) Dataset"
   ]
  },
  {
   "cell_type": "markdown",
   "metadata": {},
   "source": [
    "### Load the Fully-trained TC Learner that was originally saved with the last retraining with learner.export()"
   ]
  },
  {
   "cell_type": "code",
   "execution_count": 7,
   "metadata": {},
   "outputs": [
    {
     "data": {
      "text/html": [],
      "text/plain": [
       "<IPython.core.display.HTML object>"
      ]
     },
     "metadata": {},
     "output_type": "display_data"
    },
    {
     "data": {
      "text/html": [],
      "text/plain": [
       "<IPython.core.display.HTML object>"
      ]
     },
     "metadata": {},
     "output_type": "display_data"
    }
   ],
   "source": [
    "learn = load_learner(PATH, 'TC_export')"
   ]
  },
  {
   "cell_type": "markdown",
   "metadata": {},
   "source": [
    "### Select range of rows to include from Test Dataset"
   ]
  },
  {
   "cell_type": "code",
   "execution_count": 12,
   "metadata": {},
   "outputs": [],
   "source": [
    "R_START = 250\n",
    "R_END = 500"
   ]
  },
  {
   "cell_type": "markdown",
   "metadata": {},
   "source": [
    "### Iterate thru Fastai's learn.predict() method for each row in selected Test Dataset"
   ]
  },
  {
   "cell_type": "code",
   "execution_count": 13,
   "metadata": {},
   "outputs": [],
   "source": [
    "pred_lst=[]\n",
    "trg_lst=df_tst.iloc[R_START:R_END]['label_id']\n",
    "for t in df_tst.iloc[R_START:R_END]['text']:\n",
    "    pred = learn.predict(t)\n",
    "    pred_lst.append(int(str(pred[0])))"
   ]
  },
  {
   "cell_type": "markdown",
   "metadata": {},
   "source": [
    "### Determine which classification predictions were correct"
   ]
  },
  {
   "cell_type": "code",
   "execution_count": 14,
   "metadata": {},
   "outputs": [],
   "source": [
    "b = [x==y for (x,y) in zip(list(trg_lst), pred_lst)]\n",
    "res_lst = ['ok' if i==True else 'XXX' for i in b]\n",
    "pct = res_lst.count('ok')/len(res_lst)"
   ]
  },
  {
   "cell_type": "markdown",
   "metadata": {},
   "source": [
    "### Display results"
   ]
  },
  {
   "cell_type": "code",
   "execution_count": 11,
   "metadata": {},
   "outputs": [
    {
     "data": {
      "text/html": [
       "<div>\n",
       "<style scoped>\n",
       "    .dataframe tbody tr th:only-of-type {\n",
       "        vertical-align: middle;\n",
       "    }\n",
       "\n",
       "    .dataframe tbody tr th {\n",
       "        vertical-align: top;\n",
       "    }\n",
       "\n",
       "    .dataframe thead th {\n",
       "        text-align: right;\n",
       "    }\n",
       "</style>\n",
       "<table border=\"1\" class=\"dataframe tex2jax_ignore\">\n",
       "  <thead>\n",
       "    <tr style=\"text-align: right;\">\n",
       "      <th></th>\n",
       "      <th>Target</th>\n",
       "      <th>Prediction</th>\n",
       "      <th>Result</th>\n",
       "    </tr>\n",
       "  </thead>\n",
       "  <tbody>\n",
       "    <tr>\n",
       "      <th>0</th>\n",
       "      <td>6876</td>\n",
       "      <td>9036</td>\n",
       "      <td>XXX</td>\n",
       "    </tr>\n",
       "    <tr>\n",
       "      <th>1</th>\n",
       "      <td>25031</td>\n",
       "      <td>1783</td>\n",
       "      <td>XXX</td>\n",
       "    </tr>\n",
       "    <tr>\n",
       "      <th>2</th>\n",
       "      <td>4481</td>\n",
       "      <td>15348</td>\n",
       "      <td>XXX</td>\n",
       "    </tr>\n",
       "    <tr>\n",
       "      <th>3</th>\n",
       "      <td>42481</td>\n",
       "      <td>42481</td>\n",
       "      <td>ok</td>\n",
       "    </tr>\n",
       "    <tr>\n",
       "      <th>4</th>\n",
       "      <td>5144</td>\n",
       "      <td>5144</td>\n",
       "      <td>ok</td>\n",
       "    </tr>\n",
       "    <tr>\n",
       "      <th>5</th>\n",
       "      <td>44</td>\n",
       "      <td>44</td>\n",
       "      <td>ok</td>\n",
       "    </tr>\n",
       "    <tr>\n",
       "      <th>6</th>\n",
       "      <td>42757</td>\n",
       "      <td>42757</td>\n",
       "      <td>ok</td>\n",
       "    </tr>\n",
       "    <tr>\n",
       "      <th>7</th>\n",
       "      <td>13650</td>\n",
       "      <td>13650</td>\n",
       "      <td>ok</td>\n",
       "    </tr>\n",
       "    <tr>\n",
       "      <th>8</th>\n",
       "      <td>42529</td>\n",
       "      <td>42529</td>\n",
       "      <td>ok</td>\n",
       "    </tr>\n",
       "    <tr>\n",
       "      <th>9</th>\n",
       "      <td>43986</td>\n",
       "      <td>43986</td>\n",
       "      <td>ok</td>\n",
       "    </tr>\n",
       "    <tr>\n",
       "      <th>10</th>\n",
       "      <td>43157</td>\n",
       "      <td>43157</td>\n",
       "      <td>ok</td>\n",
       "    </tr>\n",
       "    <tr>\n",
       "      <th>11</th>\n",
       "      <td>458</td>\n",
       "      <td>458</td>\n",
       "      <td>ok</td>\n",
       "    </tr>\n",
       "    <tr>\n",
       "      <th>12</th>\n",
       "      <td>43501</td>\n",
       "      <td>43501</td>\n",
       "      <td>ok</td>\n",
       "    </tr>\n",
       "    <tr>\n",
       "      <th>13</th>\n",
       "      <td>27847</td>\n",
       "      <td>2572</td>\n",
       "      <td>XXX</td>\n",
       "    </tr>\n",
       "    <tr>\n",
       "      <th>14</th>\n",
       "      <td>21450</td>\n",
       "      <td>21450</td>\n",
       "      <td>ok</td>\n",
       "    </tr>\n",
       "    <tr>\n",
       "      <th>15</th>\n",
       "      <td>42548</td>\n",
       "      <td>42548</td>\n",
       "      <td>ok</td>\n",
       "    </tr>\n",
       "    <tr>\n",
       "      <th>16</th>\n",
       "      <td>44290</td>\n",
       "      <td>44290</td>\n",
       "      <td>ok</td>\n",
       "    </tr>\n",
       "    <tr>\n",
       "      <th>17</th>\n",
       "      <td>174</td>\n",
       "      <td>174</td>\n",
       "      <td>ok</td>\n",
       "    </tr>\n",
       "    <tr>\n",
       "      <th>18</th>\n",
       "      <td>17855</td>\n",
       "      <td>17855</td>\n",
       "      <td>ok</td>\n",
       "    </tr>\n",
       "    <tr>\n",
       "      <th>19</th>\n",
       "      <td>36351</td>\n",
       "      <td>36351</td>\n",
       "      <td>ok</td>\n",
       "    </tr>\n",
       "  </tbody>\n",
       "</table>\n",
       "</div>"
      ],
      "text/plain": [
       "    Target  Prediction Result\n",
       "0   6876    9036        XXX  \n",
       "1   25031   1783        XXX  \n",
       "2   4481    15348       XXX  \n",
       "3   42481   42481       ok   \n",
       "4   5144    5144        ok   \n",
       "5   44      44          ok   \n",
       "6   42757   42757       ok   \n",
       "7   13650   13650       ok   \n",
       "8   42529   42529       ok   \n",
       "9   43986   43986       ok   \n",
       "10  43157   43157       ok   \n",
       "11  458     458         ok   \n",
       "12  43501   43501       ok   \n",
       "13  27847   2572        XXX  \n",
       "14  21450   21450       ok   \n",
       "15  42548   42548       ok   \n",
       "16  44290   44290       ok   \n",
       "17  174     174         ok   \n",
       "18  17855   17855       ok   \n",
       "19  36351   36351       ok   "
      ]
     },
     "execution_count": 11,
     "metadata": {},
     "output_type": "execute_result"
    }
   ],
   "source": [
    "d={'Target': trg_lst, 'Prediction': pred_lst, 'Result':res_lst}\n",
    "pd.DataFrame(data=d)"
   ]
  },
  {
   "cell_type": "code",
   "execution_count": 11,
   "metadata": {},
   "outputs": [
    {
     "name": "stdout",
     "output_type": "stream",
     "text": [
      "Accuracy: 0.78\n"
     ]
    }
   ],
   "source": [
    "print('Accuracy: ' + str(pct))"
   ]
  },
  {
   "cell_type": "markdown",
   "metadata": {},
   "source": [
    "# Section Below can be used for Manual Testing\n",
    "\n",
    "### Use below if you want to RANDOMLY choose text from the Test Dataset to classify"
   ]
  },
  {
   "cell_type": "code",
   "execution_count": null,
   "metadata": {},
   "outputs": [],
   "source": [
    "pd.options.display.max_colwidth = 0\n",
    "pd.options.display.html.use_mathjax = False\n",
    "\n",
    "LBL_ID = np.random.choice(np.array(labels_tst),1,False)[0]\n",
    "    \n",
    "t = str(df_tst[df_tst['label_id']==LBL_ID].iloc[0].text)\n",
    "\n",
    "print(LBL_ID, t)"
   ]
  },
  {
   "cell_type": "code",
   "execution_count": 45,
   "metadata": {},
   "outputs": [
    {
     "data": {
      "text/plain": [
       "(Category 831,\n",
       " tensor(264),\n",
       " tensor([8.8164e-09, 1.1244e-07, 3.7135e-06,  ..., 5.3147e-07, 9.4112e-06,\n",
       "         5.2382e-06]))"
      ]
     },
     "execution_count": 45,
     "metadata": {},
     "output_type": "execute_result"
    }
   ],
   "source": [
    "learn.predict(t)"
   ]
  },
  {
   "cell_type": "markdown",
   "metadata": {},
   "source": [
    "### Use below if you want to choose a SPECIFIC label of the Test Dataset to classify"
   ]
  },
  {
   "cell_type": "code",
   "execution_count": null,
   "metadata": {},
   "outputs": [],
   "source": [
    "LBL_ID = 28370\n",
    "t = str(df_trn[df_trn['label_id']==LBL_ID].text)\n",
    "print(LBL_ID, t)"
   ]
  },
  {
   "cell_type": "code",
   "execution_count": 48,
   "metadata": {},
   "outputs": [
    {
     "data": {
      "text/plain": [
       "(Category 28370,\n",
       " tensor(1665),\n",
       " tensor([2.0339e-08, 2.4228e-06, 3.1566e-05,  ..., 4.2645e-06, 9.2083e-06,\n",
       "         2.3035e-05]))"
      ]
     },
     "execution_count": 48,
     "metadata": {},
     "output_type": "execute_result"
    }
   ],
   "source": [
    "learn.predict(t)"
   ]
  },
  {
   "cell_type": "markdown",
   "metadata": {},
   "source": [
    "### Use below if you want to supply YOUR OWN TEST STRING to run thru the classifier:"
   ]
  },
  {
   "cell_type": "code",
   "execution_count": 40,
   "metadata": {},
   "outputs": [],
   "source": [
    "t=\"We canceled all the fraudulent orders that were made on your computer and refunded the money where possible.\"\""
   ]
  },
  {
   "cell_type": "code",
   "execution_count": 41,
   "metadata": {},
   "outputs": [
    {
     "data": {
      "text/plain": [
       "(Category 2331,\n",
       " tensor(512),\n",
       " tensor([7.3616e-06, 3.4632e-09, 3.3857e-05,  ..., 3.1489e-09, 4.5093e-08,\n",
       "         6.3345e-10]))"
      ]
     },
     "execution_count": 41,
     "metadata": {},
     "output_type": "execute_result"
    }
   ],
   "source": [
    "learn.predict(t)"
   ]
  }
 ],
 "metadata": {
  "kernelspec": {
   "display_name": "Python 3",
   "language": "python",
   "name": "python3"
  },
  "language_info": {
   "codemirror_mode": {
    "name": "ipython",
    "version": 3
   },
   "file_extension": ".py",
   "mimetype": "text/x-python",
   "name": "python",
   "nbconvert_exporter": "python",
   "pygments_lexer": "ipython3",
   "version": "3.7.6"
  }
 },
 "nbformat": 4,
 "nbformat_minor": 4
}
