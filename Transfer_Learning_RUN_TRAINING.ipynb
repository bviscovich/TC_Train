{
 "cells": [
  {
   "cell_type": "markdown",
   "metadata": {},
   "source": [
    "### This is using FastAI v1 codebase"
   ]
  },
  {
   "cell_type": "code",
   "execution_count": 1,
   "metadata": {},
   "outputs": [],
   "source": [
    "from fastai.text import *\n",
    "import pandas as pd\n",
    "import numpy as np\n",
    "\n",
    "PATH = \"storage/sample/\""
   ]
  },
  {
   "cell_type": "markdown",
   "metadata": {},
   "source": [
    "### Install sklearn package separately, if necessary"
   ]
  },
  {
   "cell_type": "code",
   "execution_count": 2,
   "metadata": {},
   "outputs": [],
   "source": [
    "# Uncomment below if you need to install sklearn\n",
    "# !pip install sklearn\n",
    "\n",
    "from sklearn.model_selection import train_test_split"
   ]
  },
  {
   "cell_type": "markdown",
   "metadata": {},
   "source": [
    "### Begin reading in and prepping data"
   ]
  },
  {
   "cell_type": "code",
   "execution_count": 3,
   "metadata": {},
   "outputs": [
    {
     "data": {
      "text/plain": [
       "(25000, 3)"
      ]
     },
     "execution_count": 3,
     "metadata": {},
     "output_type": "execute_result"
    }
   ],
   "source": [
    "PATH = \"storage/sample/\"\n",
    "\n",
    "#df = pd.read_csv(f'{PATH}bullwinkle_ad_text.csv')\n",
    "df = pd.read_csv(f'{PATH}training_sample.csv')\n",
    "df.shape"
   ]
  },
  {
   "cell_type": "code",
   "execution_count": 4,
   "metadata": {},
   "outputs": [
    {
     "data": {
      "text/plain": [
       "(500, 3)"
      ]
     },
     "execution_count": 4,
     "metadata": {},
     "output_type": "execute_result"
    }
   ],
   "source": [
    "df_tst = pd.read_csv(f'{PATH}holdout_for_Sampling_test.csv')\n",
    "df_tst.shape"
   ]
  },
  {
   "cell_type": "markdown",
   "metadata": {},
   "source": [
    "### Save a list of unique labels (brand_id classes) from both Train/Valid and Test datasets"
   ]
  },
  {
   "cell_type": "code",
   "execution_count": 5,
   "metadata": {},
   "outputs": [
    {
     "data": {
      "text/plain": [
       "((5381,), (257,))"
      ]
     },
     "execution_count": 5,
     "metadata": {},
     "output_type": "execute_result"
    }
   ],
   "source": [
    "# keep a list of unique lables that we can use later when testing\n",
    "labels = df['brand_id'].unique()\n",
    "labels.sort()\n",
    "\n",
    "# Do the same for the Test (holdout) data\n",
    "labels_tst = df_tst['brand_id'].unique()\n",
    "labels_tst.sort()\n",
    "\n",
    "labels.shape, labels_tst.shape"
   ]
  },
  {
   "cell_type": "markdown",
   "metadata": {},
   "source": [
    "### See if any Test labels are unique to Train/Valid labels"
   ]
  },
  {
   "cell_type": "code",
   "execution_count": 6,
   "metadata": {},
   "outputs": [
    {
     "name": "stdout",
     "output_type": "stream",
     "text": [
      "There are 1 unique labels in Test that are NOT found in Train/Valid\n"
     ]
    }
   ],
   "source": [
    "s = set(labels)\n",
    "t = set(labels_tst)\n",
    "if t.issubset(s) == False:\n",
    "    labels_tst_unique = sorted(t.difference(s))\n",
    "print(\"There are \" + str(len(labels_tst_unique)) + \" unique labels in Test that are NOT found in Train/Valid\")"
   ]
  },
  {
   "cell_type": "markdown",
   "metadata": {},
   "source": [
    "### Split into Train and Validation DataFrames"
   ]
  },
  {
   "cell_type": "code",
   "execution_count": 7,
   "metadata": {},
   "outputs": [
    {
     "data": {
      "text/plain": [
       "brand_id    False\n",
       "text        False\n",
       "id          False\n",
       "dtype: bool"
      ]
     },
     "execution_count": 7,
     "metadata": {},
     "output_type": "execute_result"
    }
   ],
   "source": [
    "# Keep ONLY records that have AT LEAST TWO OR MORE of the SAME Label.\n",
    "df2 = df[df.duplicated(subset=['brand_id'], keep=False)]\n",
    "\n",
    "# Check to make sure (id column should be False)\n",
    "df2[df2.groupby(['brand_id']).count()<2].any()"
   ]
  },
  {
   "cell_type": "code",
   "execution_count": 8,
   "metadata": {},
   "outputs": [
    {
     "data": {
      "text/plain": [
       "((15722, 3), (6738, 3))"
      ]
     },
     "execution_count": 8,
     "metadata": {},
     "output_type": "execute_result"
    }
   ],
   "source": [
    "df_trn, df_val = train_test_split(df2, random_state=42, stratify = df2['brand_id'], test_size = 0.3)\n",
    "df_trn.shape, df_val.shape"
   ]
  },
  {
   "cell_type": "code",
   "execution_count": 9,
   "metadata": {},
   "outputs": [
    {
     "data": {
      "text/html": [
       "<div>\n",
       "<style scoped>\n",
       "    .dataframe tbody tr th:only-of-type {\n",
       "        vertical-align: middle;\n",
       "    }\n",
       "\n",
       "    .dataframe tbody tr th {\n",
       "        vertical-align: top;\n",
       "    }\n",
       "\n",
       "    .dataframe thead th {\n",
       "        text-align: right;\n",
       "    }\n",
       "</style>\n",
       "<table border=\"1\" class=\"dataframe\">\n",
       "  <thead>\n",
       "    <tr style=\"text-align: right;\">\n",
       "      <th></th>\n",
       "      <th>brand_id</th>\n",
       "      <th>text</th>\n",
       "      <th>id</th>\n",
       "    </tr>\n",
       "  </thead>\n",
       "  <tbody>\n",
       "    <tr>\n",
       "      <th>14155</th>\n",
       "      <td>1058</td>\n",
       "      <td>Let me tell you a little bit about brick house...</td>\n",
       "      <td>1996021</td>\n",
       "    </tr>\n",
       "    <tr>\n",
       "      <th>12298</th>\n",
       "      <td>9663</td>\n",
       "      <td>it's calls, friends and family Sale Taken extr...</td>\n",
       "      <td>10260351</td>\n",
       "    </tr>\n",
       "    <tr>\n",
       "      <th>8808</th>\n",
       "      <td>117</td>\n",
       "      <td>thank you to square space for sponsoring this ...</td>\n",
       "      <td>4739129</td>\n",
       "    </tr>\n",
       "    <tr>\n",
       "      <th>21202</th>\n",
       "      <td>28364</td>\n",
       "      <td>announcing the Year of 2020 2020 Vision that i...</td>\n",
       "      <td>7118568</td>\n",
       "    </tr>\n",
       "    <tr>\n",
       "      <th>371</th>\n",
       "      <td>24761</td>\n",
       "      <td>Constipation is something people don't talk ab...</td>\n",
       "      <td>10329684</td>\n",
       "    </tr>\n",
       "  </tbody>\n",
       "</table>\n",
       "</div>"
      ],
      "text/plain": [
       "       brand_id                                               text        id\n",
       "14155      1058  Let me tell you a little bit about brick house...   1996021\n",
       "12298      9663  it's calls, friends and family Sale Taken extr...  10260351\n",
       "8808        117  thank you to square space for sponsoring this ...   4739129\n",
       "21202     28364  announcing the Year of 2020 2020 Vision that i...   7118568\n",
       "371       24761  Constipation is something people don't talk ab...  10329684"
      ]
     },
     "execution_count": 9,
     "metadata": {},
     "output_type": "execute_result"
    }
   ],
   "source": [
    "df_trn.head()"
   ]
  },
  {
   "cell_type": "code",
   "execution_count": 10,
   "metadata": {},
   "outputs": [
    {
     "data": {
      "text/html": [
       "<div>\n",
       "<style scoped>\n",
       "    .dataframe tbody tr th:only-of-type {\n",
       "        vertical-align: middle;\n",
       "    }\n",
       "\n",
       "    .dataframe tbody tr th {\n",
       "        vertical-align: top;\n",
       "    }\n",
       "\n",
       "    .dataframe thead th {\n",
       "        text-align: right;\n",
       "    }\n",
       "</style>\n",
       "<table border=\"1\" class=\"dataframe\">\n",
       "  <thead>\n",
       "    <tr style=\"text-align: right;\">\n",
       "      <th></th>\n",
       "      <th>brand_id</th>\n",
       "      <th>text</th>\n",
       "      <th>id</th>\n",
       "    </tr>\n",
       "  </thead>\n",
       "  <tbody>\n",
       "    <tr>\n",
       "      <th>7133</th>\n",
       "      <td>43965</td>\n",
       "      <td>guys. I love Metallica and I get so excited ab...</td>\n",
       "      <td>10476459</td>\n",
       "    </tr>\n",
       "    <tr>\n",
       "      <th>2550</th>\n",
       "      <td>42636</td>\n",
       "      <td>Have you ever wanted to be a fly on the wall i...</td>\n",
       "      <td>7861713</td>\n",
       "    </tr>\n",
       "    <tr>\n",
       "      <th>18838</th>\n",
       "      <td>118</td>\n",
       "      <td>nobody was supposed to stamps.com what can I e...</td>\n",
       "      <td>448907</td>\n",
       "    </tr>\n",
       "    <tr>\n",
       "      <th>20598</th>\n",
       "      <td>34128</td>\n",
       "      <td>If you're in the sport, you'll love my podcast...</td>\n",
       "      <td>10529829</td>\n",
       "    </tr>\n",
       "    <tr>\n",
       "      <th>13738</th>\n",
       "      <td>109</td>\n",
       "      <td>this this episode episode of of reply reply al...</td>\n",
       "      <td>755888</td>\n",
       "    </tr>\n",
       "  </tbody>\n",
       "</table>\n",
       "</div>"
      ],
      "text/plain": [
       "       brand_id                                               text        id\n",
       "7133      43965  guys. I love Metallica and I get so excited ab...  10476459\n",
       "2550      42636  Have you ever wanted to be a fly on the wall i...   7861713\n",
       "18838       118  nobody was supposed to stamps.com what can I e...    448907\n",
       "20598     34128  If you're in the sport, you'll love my podcast...  10529829\n",
       "13738       109  this this episode episode of of reply reply al...    755888"
      ]
     },
     "execution_count": 10,
     "metadata": {},
     "output_type": "execute_result"
    }
   ],
   "source": [
    "df_val.head()"
   ]
  },
  {
   "cell_type": "markdown",
   "metadata": {},
   "source": [
    "## Begin Language Model Learning\n",
    "### Create a Language Model DataBunch from our train/validation DataFrames\n",
    "#### Note: since we are only fine-tuning our language model, and NOT classification (yet), we don't need to worry about labels right now."
   ]
  },
  {
   "cell_type": "code",
   "execution_count": 11,
   "metadata": {},
   "outputs": [
    {
     "data": {
      "text/html": [],
      "text/plain": [
       "<IPython.core.display.HTML object>"
      ]
     },
     "metadata": {},
     "output_type": "display_data"
    },
    {
     "data": {
      "text/html": [],
      "text/plain": [
       "<IPython.core.display.HTML object>"
      ]
     },
     "metadata": {},
     "output_type": "display_data"
    }
   ],
   "source": [
    "data_lm = TextLMDataBunch.from_df(train_df = df_trn, valid_df = df_val, path = PATH)"
   ]
  },
  {
   "cell_type": "markdown",
   "metadata": {},
   "source": [
    "### Save the LM DataBunch so that we don't need to run the above each and everytime"
   ]
  },
  {
   "cell_type": "code",
   "execution_count": 12,
   "metadata": {},
   "outputs": [],
   "source": [
    "# Un-comment below if an LM DataBunch does not exist in file system \n",
    "data_lm.save('LM_sample.pkl')"
   ]
  },
  {
   "cell_type": "markdown",
   "metadata": {},
   "source": [
    "### Otherwise, load the LM DataBunch from the filesystem and create the LM Learner with it.\n",
    "#### This is the minimum required to create the LM Learner, which will be used to hold the pre-trained model and any subsequent fine-tuning"
   ]
  },
  {
   "cell_type": "code",
   "execution_count": 13,
   "metadata": {},
   "outputs": [],
   "source": [
    "data_lm = load_data(PATH, 'LM_sample.pkl')"
   ]
  },
  {
   "cell_type": "markdown",
   "metadata": {},
   "source": [
    "### Use the AWD_LSTM RNN Architecture with our domain LM.   This will enhance the model's ability to predict the \"next word\" in the sentence (it is NOT used for Classification)"
   ]
  },
  {
   "cell_type": "code",
   "execution_count": 14,
   "metadata": {},
   "outputs": [],
   "source": [
    "learn = language_model_learner(data_lm, AWD_LSTM, metrics=[accuracy, Perplexity()], path=PATH, wd=0.1).to_fp16()"
   ]
  },
  {
   "cell_type": "code",
   "execution_count": 15,
   "metadata": {},
   "outputs": [
    {
     "data": {
      "text/html": [
       "<table border=\"1\" class=\"dataframe\">\n",
       "  <thead>\n",
       "    <tr style=\"text-align: left;\">\n",
       "      <th>epoch</th>\n",
       "      <th>train_loss</th>\n",
       "      <th>valid_loss</th>\n",
       "      <th>accuracy</th>\n",
       "      <th>perplexity</th>\n",
       "      <th>time</th>\n",
       "    </tr>\n",
       "  </thead>\n",
       "  <tbody>\n",
       "    <tr>\n",
       "      <td>0</td>\n",
       "      <td>4.019099</td>\n",
       "      <td>3.661697</td>\n",
       "      <td>0.347535</td>\n",
       "      <td>38.927345</td>\n",
       "      <td>02:23</td>\n",
       "    </tr>\n",
       "  </tbody>\n",
       "</table>"
      ],
      "text/plain": [
       "<IPython.core.display.HTML object>"
      ]
     },
     "metadata": {},
     "output_type": "display_data"
    }
   ],
   "source": [
    "learn.fit_one_cycle(1, 1e-2)"
   ]
  },
  {
   "cell_type": "code",
   "execution_count": 16,
   "metadata": {},
   "outputs": [],
   "source": [
    "learn.save('LM_one_epoch')"
   ]
  },
  {
   "cell_type": "code",
   "execution_count": 17,
   "metadata": {},
   "outputs": [],
   "source": [
    "learn = learn.load('LM_one_epoch')"
   ]
  },
  {
   "cell_type": "markdown",
   "metadata": {},
   "source": [
    "### Now save the Language Model's \"encoder\" for the One Epoch training run just completed.\n",
    "#### We only need to save the model's \"encoder\", which is the part that is responsible for creating and updating the hidden state.\n",
    "#### Note:  Again, this model is only concerned with predicting the \"next word\" in a sentence (hence, the term \"Language Model\").  We will not care about this any further.  The next section will start to focus on the Classification learning."
   ]
  },
  {
   "cell_type": "code",
   "execution_count": 18,
   "metadata": {},
   "outputs": [],
   "source": [
    "learn.save_encoder('LM_finetuned')"
   ]
  },
  {
   "cell_type": "code",
   "execution_count": 19,
   "metadata": {},
   "outputs": [
    {
     "data": {
      "text/html": [
       "<table border=\"1\" class=\"dataframe\">\n",
       "  <thead>\n",
       "    <tr style=\"text-align: left;\">\n",
       "      <th>epoch</th>\n",
       "      <th>train_loss</th>\n",
       "      <th>valid_loss</th>\n",
       "      <th>accuracy</th>\n",
       "      <th>perplexity</th>\n",
       "      <th>time</th>\n",
       "    </tr>\n",
       "  </thead>\n",
       "  <tbody>\n",
       "    <tr>\n",
       "      <td>0</td>\n",
       "      <td>3.640742</td>\n",
       "      <td>3.429807</td>\n",
       "      <td>0.383648</td>\n",
       "      <td>30.870667</td>\n",
       "      <td>02:53</td>\n",
       "    </tr>\n",
       "    <tr>\n",
       "      <td>1</td>\n",
       "      <td>3.389696</td>\n",
       "      <td>3.197397</td>\n",
       "      <td>0.421910</td>\n",
       "      <td>24.468771</td>\n",
       "      <td>02:54</td>\n",
       "    </tr>\n",
       "    <tr>\n",
       "      <td>2</td>\n",
       "      <td>3.216144</td>\n",
       "      <td>3.036037</td>\n",
       "      <td>0.448242</td>\n",
       "      <td>20.822578</td>\n",
       "      <td>02:54</td>\n",
       "    </tr>\n",
       "    <tr>\n",
       "      <td>3</td>\n",
       "      <td>3.061459</td>\n",
       "      <td>2.918934</td>\n",
       "      <td>0.467349</td>\n",
       "      <td>18.521526</td>\n",
       "      <td>02:54</td>\n",
       "    </tr>\n",
       "    <tr>\n",
       "      <td>4</td>\n",
       "      <td>2.911416</td>\n",
       "      <td>2.837747</td>\n",
       "      <td>0.481658</td>\n",
       "      <td>17.077246</td>\n",
       "      <td>02:55</td>\n",
       "    </tr>\n",
       "    <tr>\n",
       "      <td>5</td>\n",
       "      <td>2.763374</td>\n",
       "      <td>2.777495</td>\n",
       "      <td>0.491924</td>\n",
       "      <td>16.078688</td>\n",
       "      <td>02:55</td>\n",
       "    </tr>\n",
       "    <tr>\n",
       "      <td>6</td>\n",
       "      <td>2.713137</td>\n",
       "      <td>2.733564</td>\n",
       "      <td>0.499942</td>\n",
       "      <td>15.387641</td>\n",
       "      <td>02:55</td>\n",
       "    </tr>\n",
       "    <tr>\n",
       "      <td>7</td>\n",
       "      <td>2.580729</td>\n",
       "      <td>2.705786</td>\n",
       "      <td>0.504858</td>\n",
       "      <td>14.966064</td>\n",
       "      <td>02:55</td>\n",
       "    </tr>\n",
       "    <tr>\n",
       "      <td>8</td>\n",
       "      <td>2.556458</td>\n",
       "      <td>2.693688</td>\n",
       "      <td>0.507203</td>\n",
       "      <td>14.786101</td>\n",
       "      <td>02:55</td>\n",
       "    </tr>\n",
       "    <tr>\n",
       "      <td>9</td>\n",
       "      <td>2.496719</td>\n",
       "      <td>2.691999</td>\n",
       "      <td>0.507705</td>\n",
       "      <td>14.761170</td>\n",
       "      <td>02:55</td>\n",
       "    </tr>\n",
       "  </tbody>\n",
       "</table>"
      ],
      "text/plain": [
       "<IPython.core.display.HTML object>"
      ]
     },
     "metadata": {},
     "output_type": "display_data"
    }
   ],
   "source": [
    "learn.unfreeze()\n",
    "learn.fit_one_cycle(10, 1e-3)"
   ]
  },
  {
   "cell_type": "markdown",
   "metadata": {},
   "source": [
    "### These look like good results for a Language Model (ie: it will select the next word in a sentence correctly 50% of the time), so save this iteration of Language Model (LM) Training for future experimenting"
   ]
  },
  {
   "cell_type": "code",
   "execution_count": 20,
   "metadata": {},
   "outputs": [],
   "source": [
    "learn.save('LM_ten_epochs')"
   ]
  },
  {
   "cell_type": "code",
   "execution_count": 21,
   "metadata": {},
   "outputs": [],
   "source": [
    "learn = learn.load('LM_ten_epochs')"
   ]
  },
  {
   "cell_type": "markdown",
   "metadata": {},
   "source": [
    "### We should also save the model's \"encoder\", which is the part that is responsible for creating and updating the hidden state.\n",
    "#### Note:  Again, this model is only concerned with predicting the \"next word\" in a sentence (hence, the term \"Language Model\").  We will not care about this any further.  The next section will start to focus on the Classification learning."
   ]
  },
  {
   "cell_type": "code",
   "execution_count": 22,
   "metadata": {},
   "outputs": [],
   "source": [
    "learn.save_encoder('LM_finetuned')"
   ]
  },
  {
   "cell_type": "markdown",
   "metadata": {},
   "source": [
    "### Let's export the fully trained LM to be used on other machines (with learn = load_learner()"
   ]
  },
  {
   "cell_type": "code",
   "execution_count": 23,
   "metadata": {},
   "outputs": [],
   "source": [
    "learn.export('LM_export')"
   ]
  },
  {
   "cell_type": "markdown",
   "metadata": {},
   "source": [
    "## We can test our Language Model using our domain-specific corpus of words learned:\n",
    "#### NOTE:  Uncomment below if you didn't run the above, or you didn't create a Learn object yet"
   ]
  },
  {
   "cell_type": "code",
   "execution_count": 11,
   "metadata": {},
   "outputs": [
    {
     "data": {
      "text/html": [],
      "text/plain": [
       "<IPython.core.display.HTML object>"
      ]
     },
     "metadata": {},
     "output_type": "display_data"
    },
    {
     "data": {
      "text/html": [],
      "text/plain": [
       "<IPython.core.display.HTML object>"
      ]
     },
     "metadata": {},
     "output_type": "display_data"
    }
   ],
   "source": [
    "learn = load_learner(PATH, 'LM_export')"
   ]
  },
  {
   "cell_type": "code",
   "execution_count": 16,
   "metadata": {},
   "outputs": [],
   "source": [
    "TEXT = \"Most men are looking for ways\"\n",
    "N_WORDS = 40\n",
    "N_SENTENCES = 2\n",
    "preds = [learn.predict(TEXT, N_WORDS, temperature=0.75) \n",
    "         for _ in range(N_SENTENCES)]"
   ]
  },
  {
   "cell_type": "code",
   "execution_count": 17,
   "metadata": {},
   "outputs": [
    {
     "name": "stdout",
     "output_type": "stream",
     "text": [
      "Most men are looking for ways to improve their lives , but not to mention it 's a lot of fun . This potential , but the reason why i have been recently is the fact that i have a business called Vegas .\n",
      "Most men are looking for ways to improve their lives . And guess what ? We 're going to take a quick break . Are you ever thought about making a your dream a reality with Squarespace ? They 're a\n"
     ]
    }
   ],
   "source": [
    "print('\\n'.join(preds))"
   ]
  },
  {
   "cell_type": "markdown",
   "metadata": {},
   "source": [
    "## Begin Text Classification Learning"
   ]
  },
  {
   "cell_type": "markdown",
   "metadata": {},
   "source": [
    "### Start Text Classification by creating a TextClas DataBunch.  We MUST be sure to use the SAME \"vocab\" as our Language Model from our previous exercise. (approx 6 min)"
   ]
  },
  {
   "cell_type": "code",
   "execution_count": 18,
   "metadata": {},
   "outputs": [],
   "source": [
    "data_lm = load_data(PATH, 'LM_sample.pkl')"
   ]
  },
  {
   "cell_type": "code",
   "execution_count": 19,
   "metadata": {},
   "outputs": [
    {
     "data": {
      "text/html": [],
      "text/plain": [
       "<IPython.core.display.HTML object>"
      ]
     },
     "metadata": {},
     "output_type": "display_data"
    },
    {
     "data": {
      "text/html": [],
      "text/plain": [
       "<IPython.core.display.HTML object>"
      ]
     },
     "metadata": {},
     "output_type": "display_data"
    }
   ],
   "source": [
    "data_clas = TextClasDataBunch.from_df(train_df = df_trn, valid_df = df_val, path = PATH, label_cols = df_trn.columns[0],\n",
    "                                      vocab=data_lm.train_ds.vocab, bs=32)"
   ]
  },
  {
   "cell_type": "code",
   "execution_count": 33,
   "metadata": {},
   "outputs": [],
   "source": [
    "data_clas.save('TextDataClas.pkl')"
   ]
  },
  {
   "cell_type": "code",
   "execution_count": 34,
   "metadata": {},
   "outputs": [],
   "source": [
    "data_clas = load_data(PATH, 'TextDataClas.pkl')"
   ]
  },
  {
   "cell_type": "markdown",
   "metadata": {},
   "source": [
    "### Use the RNN Architecture for Text Learners (AWD_LSTM).  Use the LM encoder saved earlier."
   ]
  },
  {
   "cell_type": "code",
   "execution_count": 20,
   "metadata": {},
   "outputs": [
    {
     "data": {
      "text/plain": [
       "RNNLearner(data=TextClasDataBunch;\n",
       "\n",
       "Train: LabelList (15722 items)\n",
       "x: TextList\n",
       "xxbos xxmaj let me tell you a little bit about brick house . xxmaj this is field greens now . xxmaj field greens is a full serving of riel certified vegan , vegetarian and usda organic fruits and vegetables . xxmaj now it has all the antioxidants , and it has everything . xxmaj it 's like drinking a salad , except it does n't taste like drinking a salad . xxmaj you do n't ever have to have your greens , your vegetables , your salad ever again . xxmaj quite honestly , now , i do n't know if anybody really recommends that , but that 's what it 's all about . xxmaj get your wife off your back . i 'm just saying i do n't have to eat them . xxmaj its field of greens brickhouse glenn dot com go to brickhouse glenn dot com use the promo code glenn and get fifteen percent off your first order again . xxmaj it 's brickhouse glenn dot com experience better you a better tomorrow now brickhouse glenn dot com,xxbos it 's calls , friends and family xxmaj sale xxmaj taken extra 20 % off . xxmaj saving vans . xxmaj shoes for the family . 59.9 xxmaj women xxmaj sonoma teas are just 6 39 and get up to 50 % off xxmaj xxunk and barrel bedsheets , plus save on your back to school purchase plus fast and xxup free store pickup and give a little more for your wallet with codes , cash , shocked calls and calls dot com . xxmaj select stands xxmaj office xxmaj xxunk guessed from your xxmaj through xxmaj august 23rd . 20 % off of chemical family . xxmaj shocked ten . xxmaj our 50 with from a codes ten some explosion supply store closed 100 detail . xxmaj never,xxbos thank you to square space for sponsoring this episode of our show . xxmaj you are one of our day ones , one of our favorites , because there 's no better way to turn your cool idea into a new website than by using square space that is correct . i 've tried other ways . xxmaj squarespace is the about . xxmaj jake even trusted them with your wedding lips . xxmaj yeah , xxmaj and and i do n't fuck around when it comes to get married , you 've only done that like what , 45 times at this point . xxmaj ah ha ! xxmaj it 's a bull . a baker 's dozen . xxmaj what 's 1 / 2 dozen verse ? xxup a. xxmaj baker 's dozen i have does n't us six xxup a. xxmaj baker 's dozen is 13 . xxmaj okay , so it 's two and 1 / 2 xxmaj baker 's does n't 30 a half . xxmaj what better way to start your cool idea into a xxmaj web site ? xxmaj you can use their beautiful templates created by world class designers , powerful e commerce functionality . xxmaj and , yes , they even let you buy a domain name through xxmaj squarespace . xxmaj jake . xxmaj what 's available at the time of recording ? xxmaj guess what ? xxmaj wife in prison dot com is available for some reason . xxmaj does that include the guests ? xxmaj what xxunk wife in prison dot com xxmaj just wife in president upon on life in prison ? xxmaj yes , xxmaj speaking of your 33 marriages , all of them are centered life terms . xxmaj say yours . xxmaj see layers , xxmaj you asshole . xxmaj have you heard of xxmaj toronto ? xxmaj yes , i have . xxmaj well , what about xxmaj tor pronto ? xxmaj as in xxmaj toronto , xxmaj pronto xxmaj tor pronto dot com . xxmaj yeah . xxmaj xxunk wo n't or pronto dot com xxmaj if you want something in xxmaj toronto now or if you want life in prison dot com xxmaj or maybe you want your own name dot com xxmaj you could do it all if you go to square space dot com slash xxmaj if i xxmaj were you for a free trial and when you 're ready to launch use offer code xxmaj if i xxmaj were you to save 10 per cent off your first purchase of a website or domain xxmaj perfect . xxmaj think it dream it . xxmaj make it with squarespace .,xxbos announcing the xxmaj year of 2020 2020 xxmaj vision that is 2020 vision at the xxmaj ice xxmaj center , to be exact . xxmaj that 's why we 're giving you 20 % off your 2020 with i xxup lasik with i design , plus a free consultation and no interest financing , call the xxmaj ice xxmaj center today at + xxrep 4 8 44 2020 to get your 20 % off my xxup lasik or visit the i center dot com to schedule your consuls xxmaj online financing on approved credit xxmaj see website for details . xxmaj some restrictions apply .,xxbos xxmaj constipation is something people do n't talk about much , but it can be a problem for anyone , even doctors . xxmaj and xxmaj when constipation occurs , it 's interesting to see just what doctors consider important about a xxunk they might use or recommend . xxmaj while a majority of the doctors we heard from had this to say , a xxunk should be effective gentle , close to natural acting , a medicine that can be used with complete confidence . xxmaj now ex xxup xxunk has been popular with many doctors and millions of people over the years . xxmaj because pleasant tasting chocolate xxmaj ex xxmaj xxunk is effective overnight , it helps you toward your normal xxunk . xxmaj ex xxmaj xxunk is so gentle , so close to natural acting , there 's no upset . xxmaj that 's why many doctors and millions of people use xxmaj ex xxmaj xxunk with complete confidence . x xxunk xxmaj the xxunk that helps you toward your normal xxunk gently overnight .\n",
       "y: CategoryList\n",
       "1058,9663,117,28364,24761\n",
       "Path: storage/sample;\n",
       "\n",
       "Valid: LabelList (6738 items)\n",
       "x: TextList\n",
       "xxbos guys . i love xxmaj metallica and i get so excited about xxmaj metallica because not only are they just a great listen , but there are so few bands that have been around as long as they have and have the level of success that they dio that are still out there doing new , cool , original stuff . xxmaj and that 's exactly what xxmaj metallica is doing . xxmaj that 's why i was so excited when they were the band that was performing the song for xxup nxt xxmaj see take over 30 . i 'm even more excited for what they 've got for us . xxmaj now i 'm talking about s and m to yes s and m to xxmaj metallica and the xxmaj san xxmaj francisco xxmaj symphonies . xxmaj september 6th and 8th , 2019 s and m to concerts reunited the band and the xxmaj symphony for the first time since the 1999 performances captured on the xxmaj grammy winning s and m album and featured the first ever symphonic renditions of songs written and released since those original s and m shows . xxmaj now you can hear it featuring 20 songs over 2.5 hours of music with many xxmaj metallica fan favorites and to classical songs chosen by xxup sfs musical director xxmaj michael xxmaj tilson xxmaj thomas s and m to is newly re edited by the band with remixed and remastered audio for a xxmaj whole xxmaj new xxmaj look and xxmaj sound . xxmaj produced by xxmaj greg xxmaj vital xxmaj hman with xxmaj james xxmaj hetfield , xxmaj papa xxmaj het and xxmaj lars xxmaj ulrich . xxmaj the s and m to live album captures more than 2.5 hours of xxmaj james xxmaj lars current cam xxmaj it xxmaj roberts through xxmaj hell xxmaj oh , joining forces with the nearly a be strong xxup sf xxmaj symphony . xxmaj legendary musical director of the xxmaj orchestre xxmaj michael xxmaj tilson xxmaj thomas and conductor xxmaj edwin xxmaj out xxmaj water . xxmaj it 's available now in array of formats ranging from a digital album on all streaming outlets to four xxup lp vinyl to xxup cd , xxup dvd and xxmaj blue xxmaj ray versions , as well as a limited edition color vinyl for xxup lp and to xxup cd and xxmaj blue xxmaj ray xxmaj deluxe box set . xxmaj if you 're a collector , they got you . xxmaj if you just like physical media , they got you . xxmaj if you long for the warm and toasty sounds of vinyl , they got you . xxmaj and if you just want to stream something right now , digitally , they got you xxmaj metallica and xxmaj san xxmaj francisco xxmaj symphony s and m to it 's available now visit xxmaj metallica dot com for all the information,xxbos xxmaj have you ever wanted to be a fly on the wall in a therapist 's office and get it behind the scenes ? xxmaj look at what they 're really thinking . i 'm xxmaj lori xxmaj gottlieb . i 'm a psychotherapist , and i write the xxmaj deer xxmaj therapist xxmaj advice column for the xxmaj atlantic . xxmaj hey , i 'm xxmaj guy xxmaj winch . i 'm a psychologist and i write the xxmaj deer xxmaj guy advice column for xxmaj ted , and we 're the hosts of a new show on the i heart radio podcast network called dear xxmaj therapists . xxmaj think of it as an advice column in the form of podcast , except we talk to you , but it does n't stop there . xxmaj one of the most frustrating things for us is advice xxmaj columnists is that no one gets to hear what happened and how things turned out . xxmaj but on also you will we ask listeners to test drive our advice and come back on to give us an update . xxmaj so if you 'd like to talk with us about a problem bigger , small , send us an email at advice at i heart media dot com . xxmaj we ca n't wait to get you on all counts , guy .,xxbos nobody was supposed to stamps.com what can i eat a mechanical pencil you can get a six pack from xxmaj family xxmaj dollar for $ 1 less than the cost of how much stamps cost a dollar whatever my accountant knows i do n't know how much is xxmaj xxunk,xxbos xxmaj if you 're in the sport , you 'll love my podcast . xxmaj that xxmaj howie xxmaj games i checked with create legends , motor sport heroes , xxunk greats and xxmaj olympic champions . xxmaj listen for free,xxbos this this episode episode of of reply reply all all is is bright bright to to buy buy simplisafe simplisafe home home security security xxmaj xxunk xxmaj xxunk simplisafe simplisafe is is thoughtfully thoughtfully engineer engineer to to be be at at home home security security system system you 'll you 'll actually actually want want the the sensors sensors are are tiny tiny so so you you can can cover cover your your windows windows and and doors doors of of protection protection and and you 'll you 'll barely barely even even knows knows that that they 're they 're their their most most importantly importantly simplisafe simplisafe is is reliable reliable protection protection for for your entire your entire home home guards guards for for all all kinds kinds of situations of situations like like smart smart backup backup power power outage outage on on xxmaj wi - xxmaj fi xxmaj wi - xxmaj fi there there never never any any contracts contracts and and seen seen that that says says it 's it 's about about is is fair fair prices prices you 'll you 'll find find in in their their own own security security space space even even named named it it there there editor 's editor 's choice choice for for home home security security on on its its the top the top pic pic at at xxmaj the xxmaj the xxmaj xxunk xxmaj xxunk and and xxunk xxunk head head over over 2 2 million million people people already already rely rely on on it it i i do n't do n't worry worry how about how about to to protect protect your your home home or or going going to to xxmaj simply xxmaj simply safe.com safe.com reply reply off off that 's that 's xxunk xxunk safe.com safe.com\n",
       "y: CategoryList\n",
       "43965,42636,118,34128,109\n",
       "Path: storage/sample;\n",
       "\n",
       "Test: None, model=SequentialRNN(\n",
       "  (0): MultiBatchEncoder(\n",
       "    (module): AWD_LSTM(\n",
       "      (encoder): Embedding(23112, 400, padding_idx=1)\n",
       "      (encoder_dp): EmbeddingDropout(\n",
       "        (emb): Embedding(23112, 400, padding_idx=1)\n",
       "      )\n",
       "      (rnns): ModuleList(\n",
       "        (0): WeightDropout(\n",
       "          (module): LSTM(400, 1152, batch_first=True)\n",
       "        )\n",
       "        (1): WeightDropout(\n",
       "          (module): LSTM(1152, 1152, batch_first=True)\n",
       "        )\n",
       "        (2): WeightDropout(\n",
       "          (module): LSTM(1152, 400, batch_first=True)\n",
       "        )\n",
       "      )\n",
       "      (input_dp): RNNDropout()\n",
       "      (hidden_dps): ModuleList(\n",
       "        (0): RNNDropout()\n",
       "        (1): RNNDropout()\n",
       "        (2): RNNDropout()\n",
       "      )\n",
       "    )\n",
       "  )\n",
       "  (1): PoolingLinearClassifier(\n",
       "    (layers): Sequential(\n",
       "      (0): BatchNorm1d(1200, eps=1e-05, momentum=0.1, affine=True, track_running_stats=True)\n",
       "      (1): Dropout(p=0.24, inplace=False)\n",
       "      (2): Linear(in_features=1200, out_features=50, bias=True)\n",
       "      (3): ReLU(inplace=True)\n",
       "      (4): BatchNorm1d(50, eps=1e-05, momentum=0.1, affine=True, track_running_stats=True)\n",
       "      (5): Dropout(p=0.1, inplace=False)\n",
       "      (6): Linear(in_features=50, out_features=2841, bias=True)\n",
       "    )\n",
       "  )\n",
       "), opt_func=functools.partial(<class 'torch.optim.adam.Adam'>, betas=(0.9, 0.99)), loss_func=FlattenedLoss of CrossEntropyLoss(), metrics=[<function accuracy at 0x7f6eab24da60>], true_wd=True, bn_wd=True, wd=0.01, train_bn=True, path=PosixPath('storage/sample'), model_dir='models', callback_fns=[functools.partial(<class 'fastai.basic_train.Recorder'>, add_time=True, silent=False)], callbacks=[RNNTrainer\n",
       "learn: RNNLearner(data=TextClasDataBunch;\n",
       "\n",
       "Train: LabelList (15722 items)\n",
       "x: TextList\n",
       "xxbos xxmaj let me tell you a little bit about brick house . xxmaj this is field greens now . xxmaj field greens is a full serving of riel certified vegan , vegetarian and usda organic fruits and vegetables . xxmaj now it has all the antioxidants , and it has everything . xxmaj it 's like drinking a salad , except it does n't taste like drinking a salad . xxmaj you do n't ever have to have your greens , your vegetables , your salad ever again . xxmaj quite honestly , now , i do n't know if anybody really recommends that , but that 's what it 's all about . xxmaj get your wife off your back . i 'm just saying i do n't have to eat them . xxmaj its field of greens brickhouse glenn dot com go to brickhouse glenn dot com use the promo code glenn and get fifteen percent off your first order again . xxmaj it 's brickhouse glenn dot com experience better you a better tomorrow now brickhouse glenn dot com,xxbos it 's calls , friends and family xxmaj sale xxmaj taken extra 20 % off . xxmaj saving vans . xxmaj shoes for the family . 59.9 xxmaj women xxmaj sonoma teas are just 6 39 and get up to 50 % off xxmaj xxunk and barrel bedsheets , plus save on your back to school purchase plus fast and xxup free store pickup and give a little more for your wallet with codes , cash , shocked calls and calls dot com . xxmaj select stands xxmaj office xxmaj xxunk guessed from your xxmaj through xxmaj august 23rd . 20 % off of chemical family . xxmaj shocked ten . xxmaj our 50 with from a codes ten some explosion supply store closed 100 detail . xxmaj never,xxbos thank you to square space for sponsoring this episode of our show . xxmaj you are one of our day ones , one of our favorites , because there 's no better way to turn your cool idea into a new website than by using square space that is correct . i 've tried other ways . xxmaj squarespace is the about . xxmaj jake even trusted them with your wedding lips . xxmaj yeah , xxmaj and and i do n't fuck around when it comes to get married , you 've only done that like what , 45 times at this point . xxmaj ah ha ! xxmaj it 's a bull . a baker 's dozen . xxmaj what 's 1 / 2 dozen verse ? xxup a. xxmaj baker 's dozen i have does n't us six xxup a. xxmaj baker 's dozen is 13 . xxmaj okay , so it 's two and 1 / 2 xxmaj baker 's does n't 30 a half . xxmaj what better way to start your cool idea into a xxmaj web site ? xxmaj you can use their beautiful templates created by world class designers , powerful e commerce functionality . xxmaj and , yes , they even let you buy a domain name through xxmaj squarespace . xxmaj jake . xxmaj what 's available at the time of recording ? xxmaj guess what ? xxmaj wife in prison dot com is available for some reason . xxmaj does that include the guests ? xxmaj what xxunk wife in prison dot com xxmaj just wife in president upon on life in prison ? xxmaj yes , xxmaj speaking of your 33 marriages , all of them are centered life terms . xxmaj say yours . xxmaj see layers , xxmaj you asshole . xxmaj have you heard of xxmaj toronto ? xxmaj yes , i have . xxmaj well , what about xxmaj tor pronto ? xxmaj as in xxmaj toronto , xxmaj pronto xxmaj tor pronto dot com . xxmaj yeah . xxmaj xxunk wo n't or pronto dot com xxmaj if you want something in xxmaj toronto now or if you want life in prison dot com xxmaj or maybe you want your own name dot com xxmaj you could do it all if you go to square space dot com slash xxmaj if i xxmaj were you for a free trial and when you 're ready to launch use offer code xxmaj if i xxmaj were you to save 10 per cent off your first purchase of a website or domain xxmaj perfect . xxmaj think it dream it . xxmaj make it with squarespace .,xxbos announcing the xxmaj year of 2020 2020 xxmaj vision that is 2020 vision at the xxmaj ice xxmaj center , to be exact . xxmaj that 's why we 're giving you 20 % off your 2020 with i xxup lasik with i design , plus a free consultation and no interest financing , call the xxmaj ice xxmaj center today at + xxrep 4 8 44 2020 to get your 20 % off my xxup lasik or visit the i center dot com to schedule your consuls xxmaj online financing on approved credit xxmaj see website for details . xxmaj some restrictions apply .,xxbos xxmaj constipation is something people do n't talk about much , but it can be a problem for anyone , even doctors . xxmaj and xxmaj when constipation occurs , it 's interesting to see just what doctors consider important about a xxunk they might use or recommend . xxmaj while a majority of the doctors we heard from had this to say , a xxunk should be effective gentle , close to natural acting , a medicine that can be used with complete confidence . xxmaj now ex xxup xxunk has been popular with many doctors and millions of people over the years . xxmaj because pleasant tasting chocolate xxmaj ex xxmaj xxunk is effective overnight , it helps you toward your normal xxunk . xxmaj ex xxmaj xxunk is so gentle , so close to natural acting , there 's no upset . xxmaj that 's why many doctors and millions of people use xxmaj ex xxmaj xxunk with complete confidence . x xxunk xxmaj the xxunk that helps you toward your normal xxunk gently overnight .\n",
       "y: CategoryList\n",
       "1058,9663,117,28364,24761\n",
       "Path: storage/sample;\n",
       "\n",
       "Valid: LabelList (6738 items)\n",
       "x: TextList\n",
       "xxbos guys . i love xxmaj metallica and i get so excited about xxmaj metallica because not only are they just a great listen , but there are so few bands that have been around as long as they have and have the level of success that they dio that are still out there doing new , cool , original stuff . xxmaj and that 's exactly what xxmaj metallica is doing . xxmaj that 's why i was so excited when they were the band that was performing the song for xxup nxt xxmaj see take over 30 . i 'm even more excited for what they 've got for us . xxmaj now i 'm talking about s and m to yes s and m to xxmaj metallica and the xxmaj san xxmaj francisco xxmaj symphonies . xxmaj september 6th and 8th , 2019 s and m to concerts reunited the band and the xxmaj symphony for the first time since the 1999 performances captured on the xxmaj grammy winning s and m album and featured the first ever symphonic renditions of songs written and released since those original s and m shows . xxmaj now you can hear it featuring 20 songs over 2.5 hours of music with many xxmaj metallica fan favorites and to classical songs chosen by xxup sfs musical director xxmaj michael xxmaj tilson xxmaj thomas s and m to is newly re edited by the band with remixed and remastered audio for a xxmaj whole xxmaj new xxmaj look and xxmaj sound . xxmaj produced by xxmaj greg xxmaj vital xxmaj hman with xxmaj james xxmaj hetfield , xxmaj papa xxmaj het and xxmaj lars xxmaj ulrich . xxmaj the s and m to live album captures more than 2.5 hours of xxmaj james xxmaj lars current cam xxmaj it xxmaj roberts through xxmaj hell xxmaj oh , joining forces with the nearly a be strong xxup sf xxmaj symphony . xxmaj legendary musical director of the xxmaj orchestre xxmaj michael xxmaj tilson xxmaj thomas and conductor xxmaj edwin xxmaj out xxmaj water . xxmaj it 's available now in array of formats ranging from a digital album on all streaming outlets to four xxup lp vinyl to xxup cd , xxup dvd and xxmaj blue xxmaj ray versions , as well as a limited edition color vinyl for xxup lp and to xxup cd and xxmaj blue xxmaj ray xxmaj deluxe box set . xxmaj if you 're a collector , they got you . xxmaj if you just like physical media , they got you . xxmaj if you long for the warm and toasty sounds of vinyl , they got you . xxmaj and if you just want to stream something right now , digitally , they got you xxmaj metallica and xxmaj san xxmaj francisco xxmaj symphony s and m to it 's available now visit xxmaj metallica dot com for all the information,xxbos xxmaj have you ever wanted to be a fly on the wall in a therapist 's office and get it behind the scenes ? xxmaj look at what they 're really thinking . i 'm xxmaj lori xxmaj gottlieb . i 'm a psychotherapist , and i write the xxmaj deer xxmaj therapist xxmaj advice column for the xxmaj atlantic . xxmaj hey , i 'm xxmaj guy xxmaj winch . i 'm a psychologist and i write the xxmaj deer xxmaj guy advice column for xxmaj ted , and we 're the hosts of a new show on the i heart radio podcast network called dear xxmaj therapists . xxmaj think of it as an advice column in the form of podcast , except we talk to you , but it does n't stop there . xxmaj one of the most frustrating things for us is advice xxmaj columnists is that no one gets to hear what happened and how things turned out . xxmaj but on also you will we ask listeners to test drive our advice and come back on to give us an update . xxmaj so if you 'd like to talk with us about a problem bigger , small , send us an email at advice at i heart media dot com . xxmaj we ca n't wait to get you on all counts , guy .,xxbos nobody was supposed to stamps.com what can i eat a mechanical pencil you can get a six pack from xxmaj family xxmaj dollar for $ 1 less than the cost of how much stamps cost a dollar whatever my accountant knows i do n't know how much is xxmaj xxunk,xxbos xxmaj if you 're in the sport , you 'll love my podcast . xxmaj that xxmaj howie xxmaj games i checked with create legends , motor sport heroes , xxunk greats and xxmaj olympic champions . xxmaj listen for free,xxbos this this episode episode of of reply reply all all is is bright bright to to buy buy simplisafe simplisafe home home security security xxmaj xxunk xxmaj xxunk simplisafe simplisafe is is thoughtfully thoughtfully engineer engineer to to be be at at home home security security system system you 'll you 'll actually actually want want the the sensors sensors are are tiny tiny so so you you can can cover cover your your windows windows and and doors doors of of protection protection and and you 'll you 'll barely barely even even knows knows that that they 're they 're their their most most importantly importantly simplisafe simplisafe is is reliable reliable protection protection for for your entire your entire home home guards guards for for all all kinds kinds of situations of situations like like smart smart backup backup power power outage outage on on xxmaj wi - xxmaj fi xxmaj wi - xxmaj fi there there never never any any contracts contracts and and seen seen that that says says it 's it 's about about is is fair fair prices prices you 'll you 'll find find in in their their own own security security space space even even named named it it there there editor 's editor 's choice choice for for home home security security on on its its the top the top pic pic at at xxmaj the xxmaj the xxmaj xxunk xxmaj xxunk and and xxunk xxunk head head over over 2 2 million million people people already already rely rely on on it it i i do n't do n't worry worry how about how about to to protect protect your your home home or or going going to to xxmaj simply xxmaj simply safe.com safe.com reply reply off off that 's that 's xxunk xxunk safe.com safe.com\n",
       "y: CategoryList\n",
       "43965,42636,118,34128,109\n",
       "Path: storage/sample;\n",
       "\n",
       "Test: None, model=SequentialRNN(\n",
       "  (0): MultiBatchEncoder(\n",
       "    (module): AWD_LSTM(\n",
       "      (encoder): Embedding(23112, 400, padding_idx=1)\n",
       "      (encoder_dp): EmbeddingDropout(\n",
       "        (emb): Embedding(23112, 400, padding_idx=1)\n",
       "      )\n",
       "      (rnns): ModuleList(\n",
       "        (0): WeightDropout(\n",
       "          (module): LSTM(400, 1152, batch_first=True)\n",
       "        )\n",
       "        (1): WeightDropout(\n",
       "          (module): LSTM(1152, 1152, batch_first=True)\n",
       "        )\n",
       "        (2): WeightDropout(\n",
       "          (module): LSTM(1152, 400, batch_first=True)\n",
       "        )\n",
       "      )\n",
       "      (input_dp): RNNDropout()\n",
       "      (hidden_dps): ModuleList(\n",
       "        (0): RNNDropout()\n",
       "        (1): RNNDropout()\n",
       "        (2): RNNDropout()\n",
       "      )\n",
       "    )\n",
       "  )\n",
       "  (1): PoolingLinearClassifier(\n",
       "    (layers): Sequential(\n",
       "      (0): BatchNorm1d(1200, eps=1e-05, momentum=0.1, affine=True, track_running_stats=True)\n",
       "      (1): Dropout(p=0.24, inplace=False)\n",
       "      (2): Linear(in_features=1200, out_features=50, bias=True)\n",
       "      (3): ReLU(inplace=True)\n",
       "      (4): BatchNorm1d(50, eps=1e-05, momentum=0.1, affine=True, track_running_stats=True)\n",
       "      (5): Dropout(p=0.1, inplace=False)\n",
       "      (6): Linear(in_features=50, out_features=2841, bias=True)\n",
       "    )\n",
       "  )\n",
       "), opt_func=functools.partial(<class 'torch.optim.adam.Adam'>, betas=(0.9, 0.99)), loss_func=FlattenedLoss of CrossEntropyLoss(), metrics=[<function accuracy at 0x7f6eab24da60>], true_wd=True, bn_wd=True, wd=0.01, train_bn=True, path=PosixPath('storage/sample'), model_dir='models', callback_fns=[functools.partial(<class 'fastai.basic_train.Recorder'>, add_time=True, silent=False)], callbacks=[...], layer_groups=[Sequential(\n",
       "  (0): Embedding(23112, 400, padding_idx=1)\n",
       "  (1): EmbeddingDropout(\n",
       "    (emb): Embedding(23112, 400, padding_idx=1)\n",
       "  )\n",
       "), Sequential(\n",
       "  (0): WeightDropout(\n",
       "    (module): LSTM(400, 1152, batch_first=True)\n",
       "  )\n",
       "  (1): RNNDropout()\n",
       "), Sequential(\n",
       "  (0): WeightDropout(\n",
       "    (module): LSTM(1152, 1152, batch_first=True)\n",
       "  )\n",
       "  (1): RNNDropout()\n",
       "), Sequential(\n",
       "  (0): WeightDropout(\n",
       "    (module): LSTM(1152, 400, batch_first=True)\n",
       "  )\n",
       "  (1): RNNDropout()\n",
       "), Sequential(\n",
       "  (0): PoolingLinearClassifier(\n",
       "    (layers): Sequential(\n",
       "      (0): BatchNorm1d(1200, eps=1e-05, momentum=0.1, affine=True, track_running_stats=True)\n",
       "      (1): Dropout(p=0.24, inplace=False)\n",
       "      (2): Linear(in_features=1200, out_features=50, bias=True)\n",
       "      (3): ReLU(inplace=True)\n",
       "      (4): BatchNorm1d(50, eps=1e-05, momentum=0.1, affine=True, track_running_stats=True)\n",
       "      (5): Dropout(p=0.1, inplace=False)\n",
       "      (6): Linear(in_features=50, out_features=2841, bias=True)\n",
       "    )\n",
       "  )\n",
       ")], add_time=True, silent=False)\n",
       "alpha: 2.0\n",
       "beta: 1.0], layer_groups=[Sequential(\n",
       "  (0): Embedding(23112, 400, padding_idx=1)\n",
       "  (1): EmbeddingDropout(\n",
       "    (emb): Embedding(23112, 400, padding_idx=1)\n",
       "  )\n",
       "), Sequential(\n",
       "  (0): WeightDropout(\n",
       "    (module): LSTM(400, 1152, batch_first=True)\n",
       "  )\n",
       "  (1): RNNDropout()\n",
       "), Sequential(\n",
       "  (0): WeightDropout(\n",
       "    (module): LSTM(1152, 1152, batch_first=True)\n",
       "  )\n",
       "  (1): RNNDropout()\n",
       "), Sequential(\n",
       "  (0): WeightDropout(\n",
       "    (module): LSTM(1152, 400, batch_first=True)\n",
       "  )\n",
       "  (1): RNNDropout()\n",
       "), Sequential(\n",
       "  (0): PoolingLinearClassifier(\n",
       "    (layers): Sequential(\n",
       "      (0): BatchNorm1d(1200, eps=1e-05, momentum=0.1, affine=True, track_running_stats=True)\n",
       "      (1): Dropout(p=0.24, inplace=False)\n",
       "      (2): Linear(in_features=1200, out_features=50, bias=True)\n",
       "      (3): ReLU(inplace=True)\n",
       "      (4): BatchNorm1d(50, eps=1e-05, momentum=0.1, affine=True, track_running_stats=True)\n",
       "      (5): Dropout(p=0.1, inplace=False)\n",
       "      (6): Linear(in_features=50, out_features=2841, bias=True)\n",
       "    )\n",
       "  )\n",
       ")], add_time=True, silent=False)"
      ]
     },
     "execution_count": 20,
     "metadata": {},
     "output_type": "execute_result"
    }
   ],
   "source": [
    "learn = text_classifier_learner(data_clas, AWD_LSTM, drop_mult=0.6, metrics=accuracy)\n",
    "learn.load_encoder('LM_finetuned')"
   ]
  },
  {
   "cell_type": "markdown",
   "metadata": {},
   "source": [
    "### Start training with the One_Cycle approach"
   ]
  },
  {
   "cell_type": "code",
   "execution_count": 21,
   "metadata": {},
   "outputs": [
    {
     "data": {
      "text/html": [
       "<table border=\"1\" class=\"dataframe\">\n",
       "  <thead>\n",
       "    <tr style=\"text-align: left;\">\n",
       "      <th>epoch</th>\n",
       "      <th>train_loss</th>\n",
       "      <th>valid_loss</th>\n",
       "      <th>accuracy</th>\n",
       "      <th>time</th>\n",
       "    </tr>\n",
       "  </thead>\n",
       "  <tbody>\n",
       "    <tr>\n",
       "      <td>0</td>\n",
       "      <td>4.125205</td>\n",
       "      <td>3.247604</td>\n",
       "      <td>0.526863</td>\n",
       "      <td>02:56</td>\n",
       "    </tr>\n",
       "    <tr>\n",
       "      <td>1</td>\n",
       "      <td>3.252150</td>\n",
       "      <td>2.362807</td>\n",
       "      <td>0.615910</td>\n",
       "      <td>02:39</td>\n",
       "    </tr>\n",
       "    <tr>\n",
       "      <td>2</td>\n",
       "      <td>2.387005</td>\n",
       "      <td>1.841304</td>\n",
       "      <td>0.680172</td>\n",
       "      <td>02:32</td>\n",
       "    </tr>\n",
       "    <tr>\n",
       "      <td>3</td>\n",
       "      <td>1.727745</td>\n",
       "      <td>1.471312</td>\n",
       "      <td>0.742208</td>\n",
       "      <td>02:32</td>\n",
       "    </tr>\n",
       "    <tr>\n",
       "      <td>4</td>\n",
       "      <td>1.096854</td>\n",
       "      <td>1.222263</td>\n",
       "      <td>0.794746</td>\n",
       "      <td>02:41</td>\n",
       "    </tr>\n",
       "    <tr>\n",
       "      <td>5</td>\n",
       "      <td>0.692605</td>\n",
       "      <td>1.168595</td>\n",
       "      <td>0.805135</td>\n",
       "      <td>03:06</td>\n",
       "    </tr>\n",
       "  </tbody>\n",
       "</table>"
      ],
      "text/plain": [
       "<IPython.core.display.HTML object>"
      ]
     },
     "metadata": {},
     "output_type": "display_data"
    }
   ],
   "source": [
    "learn.fit_one_cycle(6, slice(5e-2, 2e-2), moms=(0.7,0.6))"
   ]
  },
  {
   "cell_type": "code",
   "execution_count": 36,
   "metadata": {},
   "outputs": [
    {
     "data": {
      "text/html": [
       "<table border=\"1\" class=\"dataframe\">\n",
       "  <thead>\n",
       "    <tr style=\"text-align: left;\">\n",
       "      <th>epoch</th>\n",
       "      <th>train_loss</th>\n",
       "      <th>valid_loss</th>\n",
       "      <th>accuracy</th>\n",
       "      <th>time</th>\n",
       "    </tr>\n",
       "  </thead>\n",
       "  <tbody>\n",
       "    <tr>\n",
       "      <td>0</td>\n",
       "      <td>3.947411</td>\n",
       "      <td>2.767303</td>\n",
       "      <td>0.565569</td>\n",
       "      <td>02:07</td>\n",
       "    </tr>\n",
       "    <tr>\n",
       "      <td>1</td>\n",
       "      <td>2.469704</td>\n",
       "      <td>1.758166</td>\n",
       "      <td>0.690385</td>\n",
       "      <td>02:03</td>\n",
       "    </tr>\n",
       "    <tr>\n",
       "      <td>2</td>\n",
       "      <td>1.611808</td>\n",
       "      <td>1.343563</td>\n",
       "      <td>0.753014</td>\n",
       "      <td>01:59</td>\n",
       "    </tr>\n",
       "    <tr>\n",
       "      <td>3</td>\n",
       "      <td>1.031375</td>\n",
       "      <td>1.028686</td>\n",
       "      <td>0.808439</td>\n",
       "      <td>02:29</td>\n",
       "    </tr>\n",
       "    <tr>\n",
       "      <td>4</td>\n",
       "      <td>0.612335</td>\n",
       "      <td>0.862890</td>\n",
       "      <td>0.844752</td>\n",
       "      <td>02:13</td>\n",
       "    </tr>\n",
       "    <tr>\n",
       "      <td>5</td>\n",
       "      <td>0.336399</td>\n",
       "      <td>0.842293</td>\n",
       "      <td>0.849015</td>\n",
       "      <td>02:10</td>\n",
       "    </tr>\n",
       "  </tbody>\n",
       "</table>"
      ],
      "text/plain": [
       "<IPython.core.display.HTML object>"
      ]
     },
     "metadata": {},
     "output_type": "display_data"
    }
   ],
   "source": [
    "learn.fit_one_cycle(6, slice(5e-2, 2e-2), moms=(0.7,0.6))"
   ]
  },
  {
   "cell_type": "code",
   "execution_count": 22,
   "metadata": {},
   "outputs": [
    {
     "data": {
      "image/png": "[encoded data removed]",
      "text/plain": [
       "<Figure size 432x288 with 1 Axes>"
      ]
     },
     "metadata": {
      "needs_background": "light"
     },
     "output_type": "display_data"
    }
   ],
   "source": [
    "learn.recorder.plot_losses()"
   ]
  },
  {
   "cell_type": "code",
   "execution_count": 55,
   "metadata": {},
   "outputs": [
    {
     "data": {
      "image/png": "[encoded data removed]",
      "text/plain": [
       "<Figure size 432x288 with 1 Axes>"
      ]
     },
     "metadata": {
      "needs_background": "light"
     },
     "output_type": "display_data"
    }
   ],
   "source": [
    "learn.recorder.plot_losses()"
   ]
  },
  {
   "cell_type": "markdown",
   "metadata": {},
   "source": [
    "### It seems like good results, so save this first iteration of Model Training for future experimenting"
   ]
  },
  {
   "cell_type": "code",
   "execution_count": 37,
   "metadata": {},
   "outputs": [],
   "source": [
    "learn.save('TC_FirstIteration_6epochs')"
   ]
  },
  {
   "cell_type": "code",
   "execution_count": null,
   "metadata": {},
   "outputs": [],
   "source": [
    "learn.load('TC_FirstIteration_6epochs')"
   ]
  },
  {
   "cell_type": "markdown",
   "metadata": {},
   "source": [
    "### Unfreezing one layer at a time (especially in text classification) is better than unfreezing everything at once.\n",
    "### freeze_to(-2)  simply means to unfreeze ONLY the LAST TWO layers for this training iteration.\n",
    "#### Note:  Here is where we can start to play around with certain hyper-parameters such as LR ranges and momentum"
   ]
  },
  {
   "cell_type": "code",
   "execution_count": 23,
   "metadata": {},
   "outputs": [
    {
     "data": {
      "text/html": [
       "<table border=\"1\" class=\"dataframe\">\n",
       "  <thead>\n",
       "    <tr style=\"text-align: left;\">\n",
       "      <th>epoch</th>\n",
       "      <th>train_loss</th>\n",
       "      <th>valid_loss</th>\n",
       "      <th>accuracy</th>\n",
       "      <th>time</th>\n",
       "    </tr>\n",
       "  </thead>\n",
       "  <tbody>\n",
       "    <tr>\n",
       "      <td>0</td>\n",
       "      <td>2.806286</td>\n",
       "      <td>2.490214</td>\n",
       "      <td>0.596319</td>\n",
       "      <td>02:33</td>\n",
       "    </tr>\n",
       "    <tr>\n",
       "      <td>1</td>\n",
       "      <td>2.172982</td>\n",
       "      <td>1.941217</td>\n",
       "      <td>0.684328</td>\n",
       "      <td>02:30</td>\n",
       "    </tr>\n",
       "    <tr>\n",
       "      <td>2</td>\n",
       "      <td>1.372571</td>\n",
       "      <td>1.328269</td>\n",
       "      <td>0.785842</td>\n",
       "      <td>02:40</td>\n",
       "    </tr>\n",
       "    <tr>\n",
       "      <td>3</td>\n",
       "      <td>0.729803</td>\n",
       "      <td>1.181941</td>\n",
       "      <td>0.810626</td>\n",
       "      <td>02:45</td>\n",
       "    </tr>\n",
       "  </tbody>\n",
       "</table>"
      ],
      "text/plain": [
       "<IPython.core.display.HTML object>"
      ]
     },
     "metadata": {},
     "output_type": "display_data"
    }
   ],
   "source": [
    "learn.freeze_to(-2)\n",
    "learn.fit_one_cycle(4, slice(5e-2, 2e-2), moms=(0.7,0.6))"
   ]
  },
  {
   "cell_type": "code",
   "execution_count": 39,
   "metadata": {},
   "outputs": [
    {
     "data": {
      "text/html": [
       "<table border=\"1\" class=\"dataframe\">\n",
       "  <thead>\n",
       "    <tr style=\"text-align: left;\">\n",
       "      <th>epoch</th>\n",
       "      <th>train_loss</th>\n",
       "      <th>valid_loss</th>\n",
       "      <th>accuracy</th>\n",
       "      <th>time</th>\n",
       "    </tr>\n",
       "  </thead>\n",
       "  <tbody>\n",
       "    <tr>\n",
       "      <td>0</td>\n",
       "      <td>1.412718</td>\n",
       "      <td>1.640649</td>\n",
       "      <td>0.721405</td>\n",
       "      <td>02:33</td>\n",
       "    </tr>\n",
       "    <tr>\n",
       "      <td>1</td>\n",
       "      <td>1.394807</td>\n",
       "      <td>1.266115</td>\n",
       "      <td>0.776389</td>\n",
       "      <td>02:01</td>\n",
       "    </tr>\n",
       "    <tr>\n",
       "      <td>2</td>\n",
       "      <td>0.744281</td>\n",
       "      <td>0.887207</td>\n",
       "      <td>0.845046</td>\n",
       "      <td>02:03</td>\n",
       "    </tr>\n",
       "    <tr>\n",
       "      <td>3</td>\n",
       "      <td>0.266919</td>\n",
       "      <td>0.782749</td>\n",
       "      <td>0.863717</td>\n",
       "      <td>02:15</td>\n",
       "    </tr>\n",
       "  </tbody>\n",
       "</table>"
      ],
      "text/plain": [
       "<IPython.core.display.HTML object>"
      ]
     },
     "metadata": {},
     "output_type": "display_data"
    }
   ],
   "source": [
    "learn.freeze_to(-2)\n",
    "learn.fit_one_cycle(4, slice(5e-2, 2e-2), moms=(0.7,0.6))"
   ]
  },
  {
   "cell_type": "markdown",
   "metadata": {},
   "source": [
    "### These seem like good results, so let's save the model trained thus far.\n",
    "#### Note: We could try unfreezing other layers one-by-one prior to unfreezing everything, if we think that might help."
   ]
  },
  {
   "cell_type": "code",
   "execution_count": 40,
   "metadata": {},
   "outputs": [],
   "source": [
    "learn.save('TC_SecondIter_4epochs_slice_5eNeg2_2eNeg2_moms0706')"
   ]
  },
  {
   "cell_type": "code",
   "execution_count": null,
   "metadata": {},
   "outputs": [],
   "source": [
    "learn.load('TC_SecondIter_4epochs_slice_5eNeg2_2eNeg2_moms0706')"
   ]
  },
  {
   "cell_type": "markdown",
   "metadata": {},
   "source": [
    "### Now unfreeze ALL layers and train some more."
   ]
  },
  {
   "cell_type": "code",
   "execution_count": 24,
   "metadata": {},
   "outputs": [
    {
     "data": {
      "text/html": [
       "<table border=\"1\" class=\"dataframe\">\n",
       "  <thead>\n",
       "    <tr style=\"text-align: left;\">\n",
       "      <th>epoch</th>\n",
       "      <th>train_loss</th>\n",
       "      <th>valid_loss</th>\n",
       "      <th>accuracy</th>\n",
       "      <th>time</th>\n",
       "    </tr>\n",
       "  </thead>\n",
       "  <tbody>\n",
       "    <tr>\n",
       "      <td>0</td>\n",
       "      <td>2.138926</td>\n",
       "      <td>1.894512</td>\n",
       "      <td>0.697240</td>\n",
       "      <td>02:58</td>\n",
       "    </tr>\n",
       "    <tr>\n",
       "      <td>1</td>\n",
       "      <td>1.796871</td>\n",
       "      <td>1.493276</td>\n",
       "      <td>0.748293</td>\n",
       "      <td>02:50</td>\n",
       "    </tr>\n",
       "    <tr>\n",
       "      <td>2</td>\n",
       "      <td>0.962733</td>\n",
       "      <td>0.960208</td>\n",
       "      <td>0.841051</td>\n",
       "      <td>03:12</td>\n",
       "    </tr>\n",
       "    <tr>\n",
       "      <td>3</td>\n",
       "      <td>0.347791</td>\n",
       "      <td>0.872006</td>\n",
       "      <td>0.857079</td>\n",
       "      <td>02:48</td>\n",
       "    </tr>\n",
       "  </tbody>\n",
       "</table>"
      ],
      "text/plain": [
       "<IPython.core.display.HTML object>"
      ]
     },
     "metadata": {},
     "output_type": "display_data"
    }
   ],
   "source": [
    "learn.unfreeze()\n",
    "learn.fit_one_cycle(4, slice(2e-2/100, 2e-2), moms=(0.8,0.5))"
   ]
  },
  {
   "cell_type": "code",
   "execution_count": 42,
   "metadata": {},
   "outputs": [
    {
     "data": {
      "text/html": [
       "<table border=\"1\" class=\"dataframe\">\n",
       "  <thead>\n",
       "    <tr style=\"text-align: left;\">\n",
       "      <th>epoch</th>\n",
       "      <th>train_loss</th>\n",
       "      <th>valid_loss</th>\n",
       "      <th>accuracy</th>\n",
       "      <th>time</th>\n",
       "    </tr>\n",
       "  </thead>\n",
       "  <tbody>\n",
       "    <tr>\n",
       "      <td>0</td>\n",
       "      <td>0.967624</td>\n",
       "      <td>1.279586</td>\n",
       "      <td>0.768597</td>\n",
       "      <td>02:05</td>\n",
       "    </tr>\n",
       "    <tr>\n",
       "      <td>1</td>\n",
       "      <td>0.961383</td>\n",
       "      <td>0.904734</td>\n",
       "      <td>0.836666</td>\n",
       "      <td>02:40</td>\n",
       "    </tr>\n",
       "    <tr>\n",
       "      <td>2</td>\n",
       "      <td>0.368368</td>\n",
       "      <td>0.653865</td>\n",
       "      <td>0.888268</td>\n",
       "      <td>02:10</td>\n",
       "    </tr>\n",
       "    <tr>\n",
       "      <td>3</td>\n",
       "      <td>0.113431</td>\n",
       "      <td>0.609564</td>\n",
       "      <td>0.896207</td>\n",
       "      <td>02:06</td>\n",
       "    </tr>\n",
       "  </tbody>\n",
       "</table>"
      ],
      "text/plain": [
       "<IPython.core.display.HTML object>"
      ]
     },
     "metadata": {},
     "output_type": "display_data"
    }
   ],
   "source": [
    "learn.unfreeze()\n",
    "learn.fit_one_cycle(4, slice(2e-2/100, 2e-2), moms=(0.8,0.5))"
   ]
  },
  {
   "cell_type": "markdown",
   "metadata": {},
   "source": [
    "### These look like pretty good results (90+ accuracy with seemingly NO Overtraining issues)\n",
    "### Let's save the final and fully-trained model"
   ]
  },
  {
   "cell_type": "code",
   "execution_count": 43,
   "metadata": {},
   "outputs": [],
   "source": [
    "learn.save('TC_FinalIter_4epochs_slice_2eNeg2DivBy100_2eNeg2_moms0805')"
   ]
  },
  {
   "cell_type": "code",
   "execution_count": 44,
   "metadata": {},
   "outputs": [],
   "source": [
    "learn.save_encoder('Final_enc')"
   ]
  },
  {
   "cell_type": "markdown",
   "metadata": {},
   "source": [
    "### Let's export the fully trained model to be used on other machines (with learn = load_learner()\n"
   ]
  },
  {
   "cell_type": "code",
   "execution_count": 25,
   "metadata": {},
   "outputs": [],
   "source": [
    "learn.export('TC_export')\n",
    "# learn.export()"
   ]
  },
  {
   "cell_type": "markdown",
   "metadata": {},
   "source": [
    "## We can test our Text Classification (TC) Model :\n",
    "#### NOTE: Uncomment below if you didn't run the above, or you didn't create a Learn object yet"
   ]
  },
  {
   "cell_type": "code",
   "execution_count": 165,
   "metadata": {},
   "outputs": [
    {
     "data": {
      "text/html": [],
      "text/plain": [
       "<IPython.core.display.HTML object>"
      ]
     },
     "metadata": {},
     "output_type": "display_data"
    },
    {
     "data": {
      "text/html": [],
      "text/plain": [
       "<IPython.core.display.HTML object>"
      ]
     },
     "metadata": {},
     "output_type": "display_data"
    }
   ],
   "source": [
    "# learn.load('TC_FinalIter_4epochs_slice_2eNeg2DivBy100_2eNeg2_moms0805')\n",
    "\n",
    "# or:\n",
    "\n",
    "# learn.load_encoder('Final_enc')\n",
    "\n",
    "# or:\n",
    "\n",
    "# learn= load_learner(PATH, 'TC_export')"
   ]
  },
  {
   "cell_type": "markdown",
   "metadata": {},
   "source": [
    "### Below we can Test by running Predict with different texts to see if it classifies correctly."
   ]
  },
  {
   "cell_type": "code",
   "execution_count": 32,
   "metadata": {},
   "outputs": [
    {
     "name": "stdout",
     "output_type": "stream",
     "text": [
      "43295 98     has remote work child Karen School are all turned on their heads this year. Everyone is wondering what to do in how to raise successful people. Now available in paperback. The Godmother of Silicon Valley Esther what cheapskate is hear as the voice of Reason? The methods in this book are the opposite of helicopter parenting. As we face an epidemic of parental anxiety, Luchinsky is hear to say, Relax and let your child lead. For instance, talked infants as If they're adults allowed teenagers to pick projects that relate to the real world and let them figure out how to complete them. Above all, let your child lead. How to Raise successful people offers essential lessons for raising, educating and managing children to their highest potential, Arianna Huffington says. How to raise successful people shows us how to be. Are best. So are children can be there best. Does it raise successful people dot com for more information or find a copy wherever books are sold That's raised successful people dot com\n",
      "220    As remote work, childcare in school or All turned on their heads. This year, everyone is wondering what to do. How to Raise Successful People, Now available in paperback, offers the opposite of helicopter PARENTING. This revolutionary book teaches parents to relax and let your child lead. Visit. Raise Successful People dot com FIRM or information, or find a copy wherever books are sold                                                                                                                                                                                                                                                                                                                                                                                                                                                                                                                                                                                                                                             \n",
      "311    Childcare in school are all turned on their heads this year. Everyone is wondering what to do in how to raise successful people. Now available in paperback. The Godmother of Silicon Valley Esther what chits key is hear as the voice of reason. The methods in this book are the opposite of helicopter parenting. As we face an epidemic of parental anxiety, Luchinsky is hear to say, Relax and let's your child lead, For instance, talked infants as If they're adults allowed teenagers to pick projects that relate to the real world and let them figure out how to complete them. Above all, let your child lead. How to Raise successful people offers essential lessons for raising, educating and managing children to their highest potential. Arianna Huffington says how to raise successful people shows us how to be. Are best. So are children can be there best. Does it raise successful people dot com FROM or information or find a copy wherever books are sold that's raised successful people dot com                \n",
      "Name: text, dtype: object\n"
     ]
    }
   ],
   "source": [
    "pd.options.display.max_colwidth = 0\n",
    "\n",
    "# Select a Br ID (label) to test with\n",
    "BR_ID = np.random.choice(np.array(labels_tst),1,False)[0]\n",
    "    \n",
    "t = str(df_tst[df_tst['brand_id']==BR_ID].text)\n",
    "\n",
    "print(BR_ID, t)"
   ]
  },
  {
   "cell_type": "code",
   "execution_count": 33,
   "metadata": {},
   "outputs": [
    {
     "data": {
      "text/plain": [
       "\"has remote work child Karen School are all turned on their heads this year. Everyone is wondering what to do in how to raise successful people. Now available in paperback. The Godmother of Silicon Valley Esther what cheapskate is hear as the voice of Reason? The methods in this book are the opposite of helicopter parenting. As we face an epidemic of parental anxiety, Luchinsky is hear to say, Relax and let your child lead. For instance, talked infants as If they're adults allowed teenagers to pick projects that relate to the real world and let them figure out how to complete them. Above all, let your child lead. How to Raise successful people offers essential lessons for raising, educating and managing children to their highest potential, Arianna Huffington says. How to raise successful people shows us how to be. Are best. So are children can be there best. Does it raise successful people dot com for more information or find a copy wherever books are sold That's raised successful people dot com\""
      ]
     },
     "execution_count": 33,
     "metadata": {},
     "output_type": "execute_result"
    }
   ],
   "source": [
    "ix = df_tst[df_tst['brand_id']==BR_ID].index[0]\n",
    "df_tst.iloc[ix].text"
   ]
  },
  {
   "cell_type": "code",
   "execution_count": 34,
   "metadata": {},
   "outputs": [
    {
     "data": {
      "text/plain": [
       "(Category 43295,\n",
       " tensor(2484),\n",
       " tensor([5.0297e-13, 8.0900e-12, 6.0713e-13,  ..., 8.3214e-14, 5.5184e-12,\n",
       "         1.3585e-11]))"
      ]
     },
     "execution_count": 34,
     "metadata": {},
     "output_type": "execute_result"
    }
   ],
   "source": [
    "learn.predict(t)"
   ]
  },
  {
   "cell_type": "code",
   "execution_count": null,
   "metadata": {},
   "outputs": [],
   "source": []
  }
 ],
 "metadata": {
  "kernelspec": {
   "display_name": "Python 3",
   "language": "python",
   "name": "python3"
  },
  "language_info": {
   "codemirror_mode": {
    "name": "ipython",
    "version": 3
   },
   "file_extension": ".py",
   "mimetype": "text/x-python",
   "name": "python",
   "nbconvert_exporter": "python",
   "pygments_lexer": "ipython3",
   "version": "3.6.7"
  }
 },
 "nbformat": 4,
 "nbformat_minor": 4
}
